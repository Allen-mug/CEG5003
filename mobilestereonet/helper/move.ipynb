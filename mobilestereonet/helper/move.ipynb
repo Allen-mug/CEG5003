{
 "cells": [
  {
   "attachments": {},
   "cell_type": "markdown",
   "metadata": {},
   "source": [
    "#### This for generating the filenames of the datasets"
   ]
  },
  {
   "cell_type": "code",
   "execution_count": 5,
   "metadata": {},
   "outputs": [],
   "source": [
    "import os\n",
    "path = '/home/tlab4/cj/data/data_train/TRAIN/'\n",
    "file = '/home/tlab4/cj/mobilestereonet/filenames'\n",
    "with open(file+'/mvsec_train.txt', 'w') as f:\n",
    "    for i in range(len(os.listdir(path+'left'))):\n",
    "        f.writelines('data_train/TRAIN/left/{}.jpg data_train/TRAIN/right/{}.jpg data_train/TRAIN/depth/{}.pfm \\n'.format(i,i,i))"
   ]
  },
  {
   "cell_type": "code",
   "execution_count": 2,
   "metadata": {},
   "outputs": [],
   "source": [
    "import os\n",
    "\n",
    "path = '/home/tlab4/cj/data_mvsec/data_train/VAL/'\n",
    "file = '/home/tlab4/cj/mobilestereonet/filenames'\n",
    "with open(file+'/mvsec_test.txt', 'w') as f:\n",
    "    for i in range(len(os.listdir(path+'left'))):\n",
    "        # f.writelines('data_train/VAL/left/{}.jpg data_train/VAL/right/{}.jpg data_train/VAL/depth/{}.pfm \\n'.format(i,i,i))\n",
    "        f.writelines('data_train/VAL/left/{}.jpg data_train/VAL/right/{}.jpg \\n'.format(i,i,i))"
   ]
  },
  {
   "cell_type": "code",
   "execution_count": 7,
   "metadata": {},
   "outputs": [],
   "source": [
    "import os\n",
    "path = '/home/tlab4/cj/data/data_train/VAL/'\n",
    "file = '/home/tlab4/cj/mobilestereonet/filenames'\n",
    "with open(file+'/mytest.txt', 'w') as f:\n",
    "    for i in range(400, 601):\n",
    "        f.writelines('data_train/VAL/left/{}.jpg data_train/VAL/right/{}.jpg \\n'.format(i,i))\n"
   ]
  },
  {
   "cell_type": "code",
   "execution_count": 9,
   "metadata": {},
   "outputs": [],
   "source": [
    "import os\n",
    "import shutil\n",
    "path_left = '/home/tlab4/cj/data_tlab/rect/left'\n",
    "path_right = '/home/tlab4/cj/data_tlab/rect/right'\n",
    "des = '/home/tlab4/cj/data_tlab/good'\n",
    "index = list(range(13)) + list(range(30,41)) + list(range(180,201)) + \\\n",
    "list(range(300,321)) + list(range(396,430)) + list(range(540,571)) + list(range(605,631)) + \\\n",
    "list(range(680,701)) + list(range(750,769)) + list(range(809,836)) + list(range(864,894)) \\\n",
    "+ list(range(935,951)) + list(range(970,981))+ list(range(995,1031))+ list(range(1185,1196))\\\n",
    "+ list(range(1273,1316)) + list(range(1545,1553))\n",
    "\n",
    "for i in range(len(index)):\n",
    "    idx = index[i]\n",
    "    shutil.copy(path_left + '/{}.jpg'.format(idx), des+'/left/{}.jpg'.format(i))\n",
    "    shutil.copy(path_right + '/{}.jpg'.format(idx), des+'/right/{}.jpg'.format(i))\n",
    "# sorted(os.listdir(path_right))"
   ]
  },
  {
   "cell_type": "code",
   "execution_count": 10,
   "metadata": {},
   "outputs": [],
   "source": [
    "import os\n",
    "\n",
    "path = '/home/tlab4/cj/data_tlab/good/'\n",
    "file = '/home/tlab4/cj/mobilestereonet/filenames'\n",
    "with open(file+'/tlab_test.txt', 'w') as f:\n",
    "    for i in range(len(os.listdir(path+'left'))):\n",
    "        # f.writelines('data_train/VAL/left/{}.jpg data_train/VAL/right/{}.jpg data_train/VAL/depth/{}.pfm \\n'.format(i,i,i))\n",
    "        f.writelines('left/{}.jpg right/{}.jpg \\n'.format(i,i))"
   ]
  },
  {
   "attachments": {},
   "cell_type": "markdown",
   "metadata": {},
   "source": [
    "transfer the pfm into jpg"
   ]
  },
  {
   "cell_type": "code",
   "execution_count": 1,
   "metadata": {},
   "outputs": [],
   "source": [
    "import os\n",
    "import shutil\n",
    "import matplotlib.pyplot as plt\n",
    "import numpy as np\n",
    "%matplotlib inline\n",
    "import cv2\n",
    "import re\n",
    "\n",
    "def pfm_imread(filename):\n",
    "    file = open(filename, 'rb')\n",
    "    color = None\n",
    "    width = None\n",
    "    height = None\n",
    "    scale = None\n",
    "    endian = None\n",
    "\n",
    "    header = file.readline().decode('utf-8').rstrip()\n",
    "    if header == 'PF':\n",
    "        color = True\n",
    "    elif header == 'Pf':\n",
    "        color = False\n",
    "    else:\n",
    "        raise Exception('Not a PFM file.')\n",
    "\n",
    "    dim_match = re.match(r'^(\\d+)\\s(\\d+)\\s$', file.readline().decode('utf-8'))\n",
    "    if dim_match:\n",
    "        width, height = map(int, dim_match.groups())\n",
    "    else:\n",
    "        raise Exception('Malformed PFM header.')\n",
    "\n",
    "    scale = float(file.readline().rstrip())\n",
    "    if scale < 0:  \n",
    "        endian = '<'\n",
    "        scale = -scale\n",
    "    else:\n",
    "        endian = '>'  \n",
    "\n",
    "    data = np.fromfile(file, endian + 'f')\n",
    "    shape = (height, width, 3) if color else (height, width)\n",
    "\n",
    "    data = np.reshape(data, shape)\n",
    "    data = np.flipud(data)\n",
    "    return data, scale\n"
   ]
  },
  {
   "cell_type": "code",
   "execution_count": 18,
   "metadata": {},
   "outputs": [],
   "source": [
    "root = '/home/tlab4/cj/mobilestereonet/predictions_test'\n",
    "save = '/home/tlab4/cj/mobilestereonet/predictions_test_jpg/pred'\n",
    "files = sorted(os.listdir(root))\n",
    "\n",
    "for filename in files:\n",
    "    # print(filename)\n",
    "    path = os.path.join(root, filename)\n",
    "    # print(path)\n",
    "    data,_ = pfm_imread(path)\n",
    "    # plt.imsave((save + '_' + filename).replace('pfm', 'jpg'), np.nan_to_num(data))\n",
    "    plt.imsave((save + '_' + filename).replace('pfm', 'jpg'), data)\n",
    "    # print((save + filename).replace('pfm', 'jpg'))\n",
    "    # plt.savefig((save + '/dep' + filename).replace('pfm', 'jpg'))"
   ]
  },
  {
   "cell_type": "code",
   "execution_count": 19,
   "metadata": {},
   "outputs": [],
   "source": [
    "root = '/home/tlab4/cj/data_mvsec/data_train/VAL/left'\n",
    "des = '/home/tlab4/cj/data_mvsec/data_train/VAL/left_name'\n",
    "\n",
    "files = sorted(os.listdir(root))\n",
    "for filename in files:\n",
    "    shutil.copy(os.path.join(root,filename), des + '/eve_' + filename)"
   ]
  }
 ],
 "metadata": {
  "kernelspec": {
   "display_name": "mobilestereonet",
   "language": "python",
   "name": "python3"
  },
  "language_info": {
   "codemirror_mode": {
    "name": "ipython",
    "version": 3
   },
   "file_extension": ".py",
   "mimetype": "text/x-python",
   "name": "python",
   "nbconvert_exporter": "python",
   "pygments_lexer": "ipython3",
   "version": "3.6.13"
  },
  "orig_nbformat": 4
 },
 "nbformat": 4,
 "nbformat_minor": 2
}
