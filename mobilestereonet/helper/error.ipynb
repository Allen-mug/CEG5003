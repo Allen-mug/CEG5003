{
 "cells": [
  {
   "cell_type": "code",
   "execution_count": 1,
   "metadata": {},
   "outputs": [],
   "source": [
    "import cv2\n",
    "import numpy as np\n",
    "import re\n",
    "import os\n",
    "\n",
    "def pfm_imread(filename):\n",
    "    file = open(filename, 'rb')\n",
    "    color = None\n",
    "    width = None\n",
    "    height = None\n",
    "    scale = None\n",
    "    endian = None\n",
    "\n",
    "    header = file.readline().decode('utf-8').rstrip()\n",
    "    if header == 'PF':\n",
    "        color = True\n",
    "    elif header == 'Pf':\n",
    "        color = False\n",
    "    else:\n",
    "        raise Exception('Not a PFM file.')\n",
    "\n",
    "    dim_match = re.match(r'^(\\d+)\\s(\\d+)\\s$', file.readline().decode('utf-8'))\n",
    "    if dim_match:\n",
    "        width, height = map(int, dim_match.groups())\n",
    "    else:\n",
    "        raise Exception('Malformed PFM header.')\n",
    "\n",
    "    scale = float(file.readline().rstrip())\n",
    "    if scale < 0:  \n",
    "        endian = '<'\n",
    "        scale = -scale\n",
    "    else:\n",
    "        endian = '>'  \n",
    "\n",
    "    data = np.fromfile(file, endian + 'f')\n",
    "    shape = (height, width, 3) if color else (height, width)\n",
    "\n",
    "    data = np.reshape(data, shape)\n",
    "    data = np.flipud(data)\n",
    "    return data, scale\n"
   ]
  },
  {
   "cell_type": "code",
   "execution_count": 3,
   "metadata": {},
   "outputs": [
    {
     "name": "stdout",
     "output_type": "stream",
     "text": [
      "the average MSE error is:  0.1485025925754259\n",
      "the average MDE error is:  0.16411261067787805\n"
     ]
    }
   ],
   "source": [
    "mse_error, mde_error = 0, 0\n",
    "# model_name = 'Original Model'\n",
    "model_name = 'Train'\n",
    "root = '/home/tlab4/cj/data_mvsec/data_train/VAL/left'\n",
    "# lens = len(os.listdir(root))\n",
    "lens = 3000\n",
    "# search predictions\n",
    "for i in range(3300):\n",
    "    error = 0\n",
    "    # dp1 = '/home/tlab4/cj/mobilestereonet/predictions_test/{}.pfm'.format(i)\n",
    "    dp1 = '/home/tlab4/cj/mobilestereonet/predictions_train/{}.pfm'.format(i)\n",
    "    # dp2 = '/home/tlab4/cj/data_mvsec/data_train/VAL/depth/{}.pfm'.format(i)\n",
    "    dp2 = '/home/tlab4/cj/data_mvsec/data_train/TRAIN/depth/{}.pfm'.format(i)\n",
    "    pred, _ = pfm_imread(dp1)\n",
    "    gt, _ = pfm_imread(dp2)\n",
    "    pred, gt = np.array(pred), np.array(gt)\n",
    "    error1 = np.nanmean((gt - pred) ** 2) # MSE\n",
    "    error2 = np.nanmean(abs(gt-pred)) # MDE (MAE)\n",
    "    # print(mse)\n",
    "    mse_error += error1\n",
    "    mde_error += error2\n",
    "\n",
    "avg_mse_error = mse_error / lens\n",
    "avg_mde_error = mde_error / lens\n",
    "\n",
    "print('the average MSE error is: ', avg_mse_error)\n",
    "print('the average MDE error is: ', avg_mde_error)\n",
    "\n",
    "\n",
    "with open('/home/tlab4/cj/data_mvsec/Error.txt', 'a') as f:\n",
    "    f.writelines(model_name + ':\\n')\n",
    "    f.writelines('MSE: {}        MDE:{} \\n\\n'.format(avg_mse_error, avg_mde_error))"
   ]
  },
  {
   "cell_type": "code",
   "execution_count": null,
   "metadata": {},
   "outputs": [],
   "source": []
  }
 ],
 "metadata": {
  "kernelspec": {
   "display_name": "mobilestereonet",
   "language": "python",
   "name": "python3"
  },
  "language_info": {
   "codemirror_mode": {
    "name": "ipython",
    "version": 3
   },
   "file_extension": ".py",
   "mimetype": "text/x-python",
   "name": "python",
   "nbconvert_exporter": "python",
   "pygments_lexer": "ipython3",
   "version": "3.6.13"
  },
  "orig_nbformat": 4
 },
 "nbformat": 4,
 "nbformat_minor": 2
}
